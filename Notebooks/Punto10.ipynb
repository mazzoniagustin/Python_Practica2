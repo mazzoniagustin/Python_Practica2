{
 "cells": [
  {
   "cell_type": "code",
   "execution_count": 1,
   "metadata": {},
   "outputs": [],
   "source": [
    "import sys\n",
    "import os\n",
    "# Obtengo la ruta absoluta del proyecto.\n",
    "project_route = os.path.abspath(os.path.join(\"..\"))\n",
    "sys.path.append(project_route) \n",
    "from src.functions import calculate_score,show_ranking\n"
   ]
  },
  {
   "cell_type": "code",
   "execution_count": 4,
   "metadata": {},
   "outputs": [],
   "source": [
    "rounds = [\n",
    "    {\n",
    "        'Shadow': {'kills': 2, 'assists': 1, 'deaths': True},\n",
    "        'Blaze': {'kills': 1, 'assists': 0, 'deaths': False},\n",
    "        'Viper': {'kills': 1, 'assists': 2, 'deaths': True},\n",
    "        'Frost': {'kills': 0, 'assists': 1, 'deaths': False},\n",
    "        'Reaper': {'kills': 1, 'assists': 1, 'deaths': False}\n",
    "    },\n",
    "    {\n",
    "        'Shadow': {'kills': 0, 'assists': 2, 'deaths': False},\n",
    "        'Blaze': {'kills': 2, 'assists': 0, 'deaths': True},\n",
    "        'Viper': {'kills': 1, 'assists': 1, 'deaths': False},\n",
    "        'Frost': {'kills': 2, 'assists': 1, 'deaths': True},\n",
    "        'Reaper': {'kills': 0, 'assists': 1, 'deaths': False}\n",
    "    },\n",
    "    {\n",
    "        'Shadow': {'kills': 1, 'assists': 0, 'deaths': False},\n",
    "        'Blaze': {'kills': 2, 'assists': 2, 'deaths': True},\n",
    "        'Viper': {'kills': 1, 'assists': 1, 'deaths': True},\n",
    "        'Frost': {'kills': 0, 'assists': 1, 'deaths': False},\n",
    "        'Reaper': {'kills': 1, 'assists': 1, 'deaths': False}\n",
    "    },\n",
    "    {\n",
    "        'Shadow': {'kills': 2, 'assists': 1, 'deaths': False},\n",
    "        'Blaze': {'kills': 1, 'assists': 0, 'deaths': True},\n",
    "        'Viper': {'kills': 0, 'assists': 2, 'deaths': False},\n",
    "        'Frost': {'kills': 1, 'assists': 1, 'deaths': True},\n",
    "        'Reaper': {'kills': 1, 'assists': 1, 'deaths': False}\n",
    "    },\n",
    "    {\n",
    "        'Shadow': {'kills': 1, 'assists': 2, 'deaths': True},\n",
    "        'Blaze': {'kills': 0, 'assists': 1, 'deaths': False},\n",
    "        'Viper': {'kills': 2, 'assists': 0, 'deaths': True},\n",
    "        'Frost': {'kills': 1, 'assists': 1, 'deaths': False},\n",
    "        'Reaper': {'kills': 1, 'assists': 1, 'deaths': True}\n",
    "    }\n",
    "]"
   ]
  },
  {
   "cell_type": "code",
   "execution_count": 5,
   "metadata": {},
   "outputs": [
    {
     "name": "stdout",
     "output_type": "stream",
     "text": [
      "---- RONDA 1 ----\n",
      "Shadow: 6 puntos.\n",
      "Blaze: 3 puntos.\n",
      "Viper: 4 puntos.\n",
      "Frost: 1 puntos.\n",
      "Reaper: 4 puntos.\n",
      "MVP de la ronda: Shadow con 6 puntos.\n",
      "---- RONDA 2 ----\n",
      "Shadow: 2 puntos.\n",
      "Blaze: 5 puntos.\n",
      "Viper: 4 puntos.\n",
      "Frost: 6 puntos.\n",
      "Reaper: 1 puntos.\n",
      "MVP de la ronda: Frost con 6 puntos.\n",
      "---- RONDA 3 ----\n",
      "Shadow: 3 puntos.\n",
      "Blaze: 7 puntos.\n",
      "Viper: 3 puntos.\n",
      "Frost: 1 puntos.\n",
      "Reaper: 4 puntos.\n",
      "MVP de la ronda: Blaze con 7 puntos.\n",
      "---- RONDA 4 ----\n",
      "Shadow: 7 puntos.\n",
      "Blaze: 2 puntos.\n",
      "Viper: 2 puntos.\n",
      "Frost: 3 puntos.\n",
      "Reaper: 4 puntos.\n",
      "MVP de la ronda: Shadow con 7 puntos.\n",
      "---- RONDA 5 ----\n",
      "Shadow: 4 puntos.\n",
      "Blaze: 1 puntos.\n",
      "Viper: 5 puntos.\n",
      "Frost: 4 puntos.\n",
      "Reaper: 3 puntos.\n",
      "MVP de la ronda: Viper con 5 puntos.\n",
      "---- Scoreboard Final ----\n",
      "Jugador | Puntos | MVPs\n",
      "-------------------------\n",
      "Shadow    | 22 | 2\n",
      "Blaze     | 18 | 1\n",
      "Viper     | 18 | 1\n",
      "Reaper    | 16 | 0\n",
      "Frost     | 15 | 1\n"
     ]
    }
   ],
   "source": [
    "scores, mvp_counter = calculate_score(rounds)\n",
    "show_ranking(scores,mvp_counter)"
   ]
  }
 ],
 "metadata": {
  "kernelspec": {
   "display_name": "Python 3",
   "language": "python",
   "name": "python3"
  },
  "language_info": {
   "codemirror_mode": {
    "name": "ipython",
    "version": 3
   },
   "file_extension": ".py",
   "mimetype": "text/x-python",
   "name": "python",
   "nbconvert_exporter": "python",
   "pygments_lexer": "ipython3",
   "version": "3.12.9"
  }
 },
 "nbformat": 4,
 "nbformat_minor": 2
}
